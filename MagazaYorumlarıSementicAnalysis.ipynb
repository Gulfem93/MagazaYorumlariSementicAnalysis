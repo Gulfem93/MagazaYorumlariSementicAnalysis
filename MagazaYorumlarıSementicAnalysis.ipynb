{
 "cells": [
  {
   "cell_type": "markdown",
   "id": "0648aa23",
   "metadata": {},
   "source": [
    "# Magaza Yorumları Sementic Analysis"
   ]
  },
  {
   "cell_type": "markdown",
   "id": "3b1c8926",
   "metadata": {},
   "source": [
    "## Introduction\n",
    "* Veriler, Türkçe olarak, çeşitli elektronik mağazalardan toplanmıştır. \n",
    "* Duygu ayrımı, \"Olumlu\", \"Olumsuz\" ve \"Tarafsız\" olmak üzere üçe ayrılmıştır."
   ]
  },
  {
   "cell_type": "markdown",
   "id": "3b14d7c7",
   "metadata": {},
   "source": [
    "1. [Import](#1)\n",
    "1. [Read Data](#2)\n",
    "1. [Data Information](#3)\n",
    "1. [Visualization](#4)\n",
    "1. [Missing Value](#5)\n",
    "1. [Training](#6)\n",
    "1. [Conclusion](#7)"
   ]
  },
  {
   "cell_type": "markdown",
   "id": "faba7844",
   "metadata": {},
   "source": [
    "<a id = \"1\"></a><b>\n",
    "## Import "
   ]
  },
  {
   "cell_type": "code",
   "execution_count": 17,
   "id": "ac6c65c3",
   "metadata": {},
   "outputs": [],
   "source": [
    "import numpy as np\n",
    "import pandas as pd\n",
    "\n",
    "import seaborn as sns\n",
    "import matplotlib.pyplot as plt"
   ]
  },
  {
   "cell_type": "markdown",
   "id": "76650f0f",
   "metadata": {},
   "source": [
    "* Bert Algorithms"
   ]
  },
  {
   "cell_type": "code",
   "execution_count": 2,
   "id": "ba8d91ae",
   "metadata": {},
   "outputs": [
    {
     "name": "stderr",
     "output_type": "stream",
     "text": [
      "c:\\users\\lenovo\\appdata\\local\\programs\\python\\python39\\lib\\site-packages\\torchaudio\\backend\\utils.py:67: UserWarning: No audio backend is available.\n",
      "  warnings.warn('No audio backend is available.')\n"
     ]
    }
   ],
   "source": [
    "from transformers import AutoModelForSequenceClassification, AutoTokenizer, pipeline\n",
    "\n",
    "model = AutoModelForSequenceClassification.from_pretrained(\"savasy/bert-base-turkish-sentiment-cased\")\n",
    "tokenizer = AutoTokenizer.from_pretrained(\"savasy/bert-base-turkish-sentiment-cased\")"
   ]
  },
  {
   "cell_type": "markdown",
   "id": "8f6f8e44",
   "metadata": {},
   "source": [
    "<a id = \"2\"></a><b>\n",
    "## Read Data"
   ]
  },
  {
   "cell_type": "code",
   "execution_count": 3,
   "id": "7943c6a5",
   "metadata": {},
   "outputs": [
    {
     "data": {
      "text/html": [
       "<div>\n",
       "<style scoped>\n",
       "    .dataframe tbody tr th:only-of-type {\n",
       "        vertical-align: middle;\n",
       "    }\n",
       "\n",
       "    .dataframe tbody tr th {\n",
       "        vertical-align: top;\n",
       "    }\n",
       "\n",
       "    .dataframe thead th {\n",
       "        text-align: right;\n",
       "    }\n",
       "</style>\n",
       "<table border=\"1\" class=\"dataframe\">\n",
       "  <thead>\n",
       "    <tr style=\"text-align: right;\">\n",
       "      <th></th>\n",
       "      <th>Görüş</th>\n",
       "      <th>Durum</th>\n",
       "    </tr>\n",
       "  </thead>\n",
       "  <tbody>\n",
       "    <tr>\n",
       "      <th>0</th>\n",
       "      <td>ses kalitesi ve ergonomisi rezalet, sony olduğ...</td>\n",
       "      <td>Olumsuz</td>\n",
       "    </tr>\n",
       "    <tr>\n",
       "      <th>1</th>\n",
       "      <td>hizli teslimat tesekkürler</td>\n",
       "      <td>Tarafsız</td>\n",
       "    </tr>\n",
       "    <tr>\n",
       "      <th>2</th>\n",
       "      <td>ses olayı süper....gece çalıştır sıkıntı yok.....</td>\n",
       "      <td>Olumlu</td>\n",
       "    </tr>\n",
       "    <tr>\n",
       "      <th>3</th>\n",
       "      <td>geldi bigün kullandık hemen bozoldu hiçtavsiye...</td>\n",
       "      <td>Olumsuz</td>\n",
       "    </tr>\n",
       "    <tr>\n",
       "      <th>4</th>\n",
       "      <td>Kulaklığın sesi kaliteli falan değil. Aleti öv...</td>\n",
       "      <td>Olumsuz</td>\n",
       "    </tr>\n",
       "  </tbody>\n",
       "</table>\n",
       "</div>"
      ],
      "text/plain": [
       "                                               Görüş     Durum\n",
       "0  ses kalitesi ve ergonomisi rezalet, sony olduğ...   Olumsuz\n",
       "1                         hizli teslimat tesekkürler  Tarafsız\n",
       "2  ses olayı süper....gece çalıştır sıkıntı yok.....    Olumlu\n",
       "3  geldi bigün kullandık hemen bozoldu hiçtavsiye...   Olumsuz\n",
       "4  Kulaklığın sesi kaliteli falan değil. Aleti öv...   Olumsuz"
      ]
     },
     "execution_count": 3,
     "metadata": {},
     "output_type": "execute_result"
    }
   ],
   "source": [
    "data = pd.read_csv(\"magaza_yorumlari_duygu_analizi.csv\", encoding = \"utf-16\")\n",
    "data = data[:3000]\n",
    "data.head()"
   ]
  },
  {
   "cell_type": "code",
   "execution_count": 4,
   "id": "f06141ff",
   "metadata": {},
   "outputs": [],
   "source": [
    "gorus = data[\"Görüş\"]\n",
    "durum = data[\"Durum\"]"
   ]
  },
  {
   "cell_type": "markdown",
   "id": "f595f163",
   "metadata": {},
   "source": [
    "<a id = \"3\"></a><b>\n",
    "## Data Information"
   ]
  },
  {
   "cell_type": "code",
   "execution_count": 5,
   "id": "83cbffa3",
   "metadata": {},
   "outputs": [
    {
     "data": {
      "text/html": [
       "<div>\n",
       "<style scoped>\n",
       "    .dataframe tbody tr th:only-of-type {\n",
       "        vertical-align: middle;\n",
       "    }\n",
       "\n",
       "    .dataframe tbody tr th {\n",
       "        vertical-align: top;\n",
       "    }\n",
       "\n",
       "    .dataframe thead th {\n",
       "        text-align: right;\n",
       "    }\n",
       "</style>\n",
       "<table border=\"1\" class=\"dataframe\">\n",
       "  <thead>\n",
       "    <tr style=\"text-align: right;\">\n",
       "      <th></th>\n",
       "      <th>Görüş</th>\n",
       "      <th>Durum</th>\n",
       "    </tr>\n",
       "  </thead>\n",
       "  <tbody>\n",
       "    <tr>\n",
       "      <th>count</th>\n",
       "      <td>2999</td>\n",
       "      <td>3000</td>\n",
       "    </tr>\n",
       "    <tr>\n",
       "      <th>unique</th>\n",
       "      <td>2997</td>\n",
       "      <td>3</td>\n",
       "    </tr>\n",
       "    <tr>\n",
       "      <th>top</th>\n",
       "      <td>kullanişlı</td>\n",
       "      <td>Olumsuz</td>\n",
       "    </tr>\n",
       "    <tr>\n",
       "      <th>freq</th>\n",
       "      <td>2</td>\n",
       "      <td>1148</td>\n",
       "    </tr>\n",
       "  </tbody>\n",
       "</table>\n",
       "</div>"
      ],
      "text/plain": [
       "             Görüş    Durum\n",
       "count         2999     3000\n",
       "unique        2997        3\n",
       "top     kullanişlı  Olumsuz\n",
       "freq             2     1148"
      ]
     },
     "execution_count": 5,
     "metadata": {},
     "output_type": "execute_result"
    }
   ],
   "source": [
    "data.describe()"
   ]
  },
  {
   "cell_type": "code",
   "execution_count": 6,
   "id": "6603e819",
   "metadata": {},
   "outputs": [
    {
     "name": "stdout",
     "output_type": "stream",
     "text": [
      "<class 'pandas.core.frame.DataFrame'>\n",
      "RangeIndex: 3000 entries, 0 to 2999\n",
      "Data columns (total 2 columns):\n",
      " #   Column  Non-Null Count  Dtype \n",
      "---  ------  --------------  ----- \n",
      " 0   Görüş   2999 non-null   object\n",
      " 1   Durum   3000 non-null   object\n",
      "dtypes: object(2)\n",
      "memory usage: 47.0+ KB\n"
     ]
    }
   ],
   "source": [
    "data.info()"
   ]
  },
  {
   "cell_type": "code",
   "execution_count": 7,
   "id": "186ce7f3",
   "metadata": {},
   "outputs": [
    {
     "data": {
      "text/plain": [
       "str"
      ]
     },
     "execution_count": 7,
     "metadata": {},
     "output_type": "execute_result"
    }
   ],
   "source": [
    "type(data[\"Görüş\"][5])"
   ]
  },
  {
   "cell_type": "markdown",
   "id": "371b0050",
   "metadata": {},
   "source": [
    "* Label Encoder"
   ]
  },
  {
   "cell_type": "code",
   "execution_count": 8,
   "id": "32f51b6c",
   "metadata": {},
   "outputs": [],
   "source": [
    "durum = [0 if i == \"Olumsuz\" else 1 if i == \"Olumlu\" else 2 for i in data[\"Durum\"]]"
   ]
  },
  {
   "cell_type": "code",
   "execution_count": 9,
   "id": "1a2f7d7a",
   "metadata": {},
   "outputs": [
    {
     "data": {
      "text/html": [
       "<div>\n",
       "<style scoped>\n",
       "    .dataframe tbody tr th:only-of-type {\n",
       "        vertical-align: middle;\n",
       "    }\n",
       "\n",
       "    .dataframe tbody tr th {\n",
       "        vertical-align: top;\n",
       "    }\n",
       "\n",
       "    .dataframe thead th {\n",
       "        text-align: right;\n",
       "    }\n",
       "</style>\n",
       "<table border=\"1\" class=\"dataframe\">\n",
       "  <thead>\n",
       "    <tr style=\"text-align: right;\">\n",
       "      <th></th>\n",
       "      <th>Görüş</th>\n",
       "      <th>Durum</th>\n",
       "    </tr>\n",
       "  </thead>\n",
       "  <tbody>\n",
       "    <tr>\n",
       "      <th>0</th>\n",
       "      <td>ses kalitesi ve ergonomisi rezalet, sony olduğ...</td>\n",
       "      <td>0</td>\n",
       "    </tr>\n",
       "    <tr>\n",
       "      <th>1</th>\n",
       "      <td>hizli teslimat tesekkürler</td>\n",
       "      <td>2</td>\n",
       "    </tr>\n",
       "    <tr>\n",
       "      <th>2</th>\n",
       "      <td>ses olayı süper....gece çalıştır sıkıntı yok.....</td>\n",
       "      <td>1</td>\n",
       "    </tr>\n",
       "    <tr>\n",
       "      <th>3</th>\n",
       "      <td>geldi bigün kullandık hemen bozoldu hiçtavsiye...</td>\n",
       "      <td>0</td>\n",
       "    </tr>\n",
       "    <tr>\n",
       "      <th>4</th>\n",
       "      <td>Kulaklığın sesi kaliteli falan değil. Aleti öv...</td>\n",
       "      <td>0</td>\n",
       "    </tr>\n",
       "  </tbody>\n",
       "</table>\n",
       "</div>"
      ],
      "text/plain": [
       "                                               Görüş  Durum\n",
       "0  ses kalitesi ve ergonomisi rezalet, sony olduğ...      0\n",
       "1                         hizli teslimat tesekkürler      2\n",
       "2  ses olayı süper....gece çalıştır sıkıntı yok.....      1\n",
       "3  geldi bigün kullandık hemen bozoldu hiçtavsiye...      0\n",
       "4  Kulaklığın sesi kaliteli falan değil. Aleti öv...      0"
      ]
     },
     "execution_count": 9,
     "metadata": {},
     "output_type": "execute_result"
    }
   ],
   "source": [
    "durum = pd.DataFrame(data = durum, index = range(len(durum)), columns = [\"Durum\"])\n",
    "data = pd.concat([gorus, durum], axis = 1)\n",
    "data.head()"
   ]
  },
  {
   "cell_type": "markdown",
   "id": "3bfd3c56",
   "metadata": {},
   "source": [
    "<a id = \"4\"></a><b>\n",
    "## Visualization"
   ]
  },
  {
   "cell_type": "code",
   "execution_count": 21,
   "id": "fa30f8fa",
   "metadata": {},
   "outputs": [
    {
     "data": {
      "image/png": "[encoded data removed]",
      "text/plain": [
       "<Figure size 648x216 with 1 Axes>"
      ]
     },
     "metadata": {
      "needs_background": "light"
     },
     "output_type": "display_data"
    },
    {
     "name": "stdout",
     "output_type": "stream",
     "text": [
      "Durum: \n",
      " 0    1148\n",
      "1    1097\n",
      "2     754\n",
      "Name: Durum, dtype: int64\n"
     ]
    }
   ],
   "source": [
    "var = data[\"Durum\"]\n",
    "    \n",
    "# count number of categorical variable \n",
    "varValue = var.value_counts()\n",
    "    \n",
    "# visualize\n",
    "plt.figure(figsize = (9, 3))\n",
    "plt.bar(varValue.index, varValue)\n",
    "plt.xticks(varValue.index, varValue.index.values)\n",
    "plt.ylabel(\"Frequency\")\n",
    "plt.title(\"Durum\")\n",
    "plt.show()\n",
    "print(\"{}: \\n {}\".format(\"Durum\", varValue))"
   ]
  },
  {
   "cell_type": "markdown",
   "id": "57be544f",
   "metadata": {},
   "source": [
    "* Positive: 1097\n",
    "* Negative: 1148\n",
    "* Notr: 754"
   ]
  },
  {
   "cell_type": "markdown",
   "id": "1cc37f90",
   "metadata": {},
   "source": [
    "<a id = \"5\"></a><b>\n",
    "## Missing Value"
   ]
  },
  {
   "cell_type": "code",
   "execution_count": 10,
   "id": "6fec83b1",
   "metadata": {},
   "outputs": [
    {
     "data": {
      "text/plain": [
       "index    0\n",
       "Görüş    0\n",
       "Durum    0\n",
       "dtype: int64"
      ]
     },
     "execution_count": 10,
     "metadata": {},
     "output_type": "execute_result"
    }
   ],
   "source": [
    "data.isnull().sum()\n",
    "data = data.dropna().reset_index()\n",
    "data.isnull().sum()"
   ]
  },
  {
   "cell_type": "markdown",
   "id": "d640ad4e",
   "metadata": {},
   "source": [
    "<a id = \"6\"></a><b>\n",
    "## Training"
   ]
  },
  {
   "cell_type": "code",
   "execution_count": 11,
   "id": "d0c955f7",
   "metadata": {},
   "outputs": [],
   "source": [
    "sa = pipeline(\"sentiment-analysis\", tokenizer=tokenizer, model=model)"
   ]
  },
  {
   "cell_type": "code",
   "execution_count": 12,
   "id": "9e50cc16",
   "metadata": {},
   "outputs": [
    {
     "data": {
      "text/plain": [
       "[{'label': 'positive', 'score': 0.7957015633583069}]"
      ]
     },
     "execution_count": 12,
     "metadata": {},
     "output_type": "execute_result"
    }
   ],
   "source": [
    "sa(data[\"Görüş\"][1])"
   ]
  },
  {
   "cell_type": "code",
   "execution_count": 13,
   "id": "9053ffe9",
   "metadata": {},
   "outputs": [
    {
     "data": {
      "text/plain": [
       "'hizli teslimat tesekkürler'"
      ]
     },
     "execution_count": 13,
     "metadata": {},
     "output_type": "execute_result"
    }
   ],
   "source": [
    "data[\"Görüş\"][1]"
   ]
  },
  {
   "cell_type": "code",
   "execution_count": 14,
   "id": "daebd808",
   "metadata": {},
   "outputs": [],
   "source": [
    "label_list = []\n",
    "score_list = []\n",
    "for d in range(len(data)):\n",
    "    for i in sa(data[\"Görüş\"][d]):\n",
    "        label, score = i.values()\n",
    "        label_list.append(label)\n",
    "        score_list.append(score)\n",
    "data[\"Sementic\"] = pd.DataFrame(data = label_list, index = range(len(label_list)), columns = [\"Sementic\"])\n",
    "data[\"Probability\"] = pd.DataFrame(data = score_list, index = range(len(score_list)), columns = [\"Probability\"])"
   ]
  },
  {
   "cell_type": "markdown",
   "id": "8847c2c5",
   "metadata": {},
   "source": [
    "<a id = \"7\"></a><b>\n",
    "## Conclusion"
   ]
  },
  {
   "cell_type": "code",
   "execution_count": 15,
   "id": "aabe001f",
   "metadata": {},
   "outputs": [
    {
     "data": {
      "text/html": [
       "<div>\n",
       "<style scoped>\n",
       "    .dataframe tbody tr th:only-of-type {\n",
       "        vertical-align: middle;\n",
       "    }\n",
       "\n",
       "    .dataframe tbody tr th {\n",
       "        vertical-align: top;\n",
       "    }\n",
       "\n",
       "    .dataframe thead th {\n",
       "        text-align: right;\n",
       "    }\n",
       "</style>\n",
       "<table border=\"1\" class=\"dataframe\">\n",
       "  <thead>\n",
       "    <tr style=\"text-align: right;\">\n",
       "      <th></th>\n",
       "      <th>index</th>\n",
       "      <th>Görüş</th>\n",
       "      <th>Durum</th>\n",
       "      <th>Sementic</th>\n",
       "      <th>Probability</th>\n",
       "    </tr>\n",
       "  </thead>\n",
       "  <tbody>\n",
       "    <tr>\n",
       "      <th>0</th>\n",
       "      <td>0</td>\n",
       "      <td>ses kalitesi ve ergonomisi rezalet, sony olduğ...</td>\n",
       "      <td>0</td>\n",
       "      <td>negative</td>\n",
       "      <td>0.999512</td>\n",
       "    </tr>\n",
       "    <tr>\n",
       "      <th>1</th>\n",
       "      <td>1</td>\n",
       "      <td>hizli teslimat tesekkürler</td>\n",
       "      <td>2</td>\n",
       "      <td>positive</td>\n",
       "      <td>0.795702</td>\n",
       "    </tr>\n",
       "    <tr>\n",
       "      <th>2</th>\n",
       "      <td>2</td>\n",
       "      <td>ses olayı süper....gece çalıştır sıkıntı yok.....</td>\n",
       "      <td>1</td>\n",
       "      <td>positive</td>\n",
       "      <td>0.988502</td>\n",
       "    </tr>\n",
       "    <tr>\n",
       "      <th>3</th>\n",
       "      <td>3</td>\n",
       "      <td>geldi bigün kullandık hemen bozoldu hiçtavsiye...</td>\n",
       "      <td>0</td>\n",
       "      <td>negative</td>\n",
       "      <td>0.997646</td>\n",
       "    </tr>\n",
       "    <tr>\n",
       "      <th>4</th>\n",
       "      <td>4</td>\n",
       "      <td>Kulaklığın sesi kaliteli falan değil. Aleti öv...</td>\n",
       "      <td>0</td>\n",
       "      <td>negative</td>\n",
       "      <td>0.998313</td>\n",
       "    </tr>\n",
       "  </tbody>\n",
       "</table>\n",
       "</div>"
      ],
      "text/plain": [
       "   index                                              Görüş  Durum  Sementic  \\\n",
       "0      0  ses kalitesi ve ergonomisi rezalet, sony olduğ...      0  negative   \n",
       "1      1                         hizli teslimat tesekkürler      2  positive   \n",
       "2      2  ses olayı süper....gece çalıştır sıkıntı yok.....      1  positive   \n",
       "3      3  geldi bigün kullandık hemen bozoldu hiçtavsiye...      0  negative   \n",
       "4      4  Kulaklığın sesi kaliteli falan değil. Aleti öv...      0  negative   \n",
       "\n",
       "   Probability  \n",
       "0     0.999512  \n",
       "1     0.795702  \n",
       "2     0.988502  \n",
       "3     0.997646  \n",
       "4     0.998313  "
      ]
     },
     "execution_count": 15,
     "metadata": {},
     "output_type": "execute_result"
    }
   ],
   "source": [
    "data.head()"
   ]
  },
  {
   "cell_type": "markdown",
   "id": "64f5f690",
   "metadata": {},
   "source": [
    "* data[0] == 0 negatif olma olasılığı 0.99 \n",
    "* data[1] == 2 notr olma olasılığı 0.79"
   ]
  },
  {
   "cell_type": "code",
   "execution_count": null,
   "id": "a78cd6bf",
   "metadata": {},
   "outputs": [],
   "source": []
  }
 ],
 "metadata": {
  "kernelspec": {
   "display_name": "Python 3 (ipykernel)",
   "language": "python",
   "name": "python3"
  },
  "language_info": {
   "codemirror_mode": {
    "name": "ipython",
    "version": 3
   },
   "file_extension": ".py",
   "mimetype": "text/x-python",
   "name": "python",
   "nbconvert_exporter": "python",
   "pygments_lexer": "ipython3",
   "version": "3.9.6"
  }
 },
 "nbformat": 4,
 "nbformat_minor": 5
}

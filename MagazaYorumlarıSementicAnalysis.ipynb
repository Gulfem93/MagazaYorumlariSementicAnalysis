{
 "cells": [
  {
   "cell_type": "markdown",
   "id": "0648aa23",
   "metadata": {},
   "source": [
    "# Magaza Yorumları Sementic Analysis"
   ]
  },
  {
   "cell_type": "markdown",
   "id": "3b1c8926",
   "metadata": {},
   "source": [
    "## Introduction\n",
    "* Veriler, Türkçe olarak, çeşitli elektronik mağazalardan toplanmıştır. \n",
    "* Duygu ayrımı, \"Olumlu\", \"Olumsuz\" ve \"Tarafsız\" olmak üzere üçe ayrılmıştır.\n",
    "\n",
    "![image](https://www.yasantipsikoloji.com/upload/images/sayfalar/2020/duygusal-problemleri-cozmenin-10-yolu-44069-5315495833-t.jpg)"
   ]
  },
  {
   "cell_type": "markdown",
   "id": "3b14d7c7",
   "metadata": {},
   "source": [
    "1. [Import](#1)\n",
    "1. [Read Data](#2)\n",
    "1. [Data Information](#3)\n",
    "1. [Visualization](#4)\n",
    "1. [Missing Value](#5)\n",
    "1. [Training](#6)\n",
    "1. [Conclusion](#7)"
   ]
  },
  {
   "cell_type": "markdown",
   "id": "faba7844",
   "metadata": {},
   "source": [
    "<a id = \"1\"></a><b>\n",
    "## Import "
   ]
  },
  {
   "cell_type": "code",
   "execution_count": 1,
   "id": "ac6c65c3",
   "metadata": {},
   "outputs": [],
   "source": [
    "import numpy as np\n",
    "import pandas as pd\n",
    "\n",
    "import seaborn as sns\n",
    "import matplotlib.pyplot as plt"
   ]
  },
  {
   "cell_type": "markdown",
   "id": "76650f0f",
   "metadata": {},
   "source": [
    "* Bert Algorithms"
   ]
  },
  {
   "cell_type": "code",
   "execution_count": 2,
   "id": "ba8d91ae",
   "metadata": {},
   "outputs": [
    {
     "name": "stderr",
     "output_type": "stream",
     "text": [
      "c:\\users\\lenovo\\appdata\\local\\programs\\python\\python39\\lib\\site-packages\\torchaudio\\backend\\utils.py:67: UserWarning: No audio backend is available.\n",
      "  warnings.warn('No audio backend is available.')\n"
     ]
    }
   ],
   "source": [
    "from transformers import AutoModelForSequenceClassification, AutoTokenizer, pipeline\n",
    "\n",
    "# Öncelikle \"avasy/bert-base-turkish-sentiment-cased\"'i temel modeliniz olarak tanımlayalım:\n",
    "model = AutoModelForSequenceClassification.from_pretrained(\"savasy/bert-base-turkish-sentiment-cased\")\n",
    "\n",
    "# Verilerimizi önceden işlemek için \"savasy/bert-base-turkish-sentiment-cased\" tokenizer'ı kullanacaksınız\n",
    "tokenizer = AutoTokenizer.from_pretrained(\"savasy/bert-base-turkish-sentiment-cased\")"
   ]
  },
  {
   "cell_type": "markdown",
   "id": "8f6f8e44",
   "metadata": {},
   "source": [
    "<a id = \"2\"></a><b>\n",
    "## Read Data"
   ]
  },
  {
   "cell_type": "code",
   "execution_count": 3,
   "id": "7943c6a5",
   "metadata": {},
   "outputs": [
    {
     "data": {
      "text/html": [
       "<div>\n",
       "<style scoped>\n",
       "    .dataframe tbody tr th:only-of-type {\n",
       "        vertical-align: middle;\n",
       "    }\n",
       "\n",
       "    .dataframe tbody tr th {\n",
       "        vertical-align: top;\n",
       "    }\n",
       "\n",
       "    .dataframe thead th {\n",
       "        text-align: right;\n",
       "    }\n",
       "</style>\n",
       "<table border=\"1\" class=\"dataframe\">\n",
       "  <thead>\n",
       "    <tr style=\"text-align: right;\">\n",
       "      <th></th>\n",
       "      <th>Görüş</th>\n",
       "      <th>Durum</th>\n",
       "    </tr>\n",
       "  </thead>\n",
       "  <tbody>\n",
       "    <tr>\n",
       "      <th>0</th>\n",
       "      <td>ses kalitesi ve ergonomisi rezalet, sony olduğ...</td>\n",
       "      <td>Olumsuz</td>\n",
       "    </tr>\n",
       "    <tr>\n",
       "      <th>1</th>\n",
       "      <td>hizli teslimat tesekkürler</td>\n",
       "      <td>Tarafsız</td>\n",
       "    </tr>\n",
       "    <tr>\n",
       "      <th>2</th>\n",
       "      <td>ses olayı süper....gece çalıştır sıkıntı yok.....</td>\n",
       "      <td>Olumlu</td>\n",
       "    </tr>\n",
       "    <tr>\n",
       "      <th>3</th>\n",
       "      <td>geldi bigün kullandık hemen bozoldu hiçtavsiye...</td>\n",
       "      <td>Olumsuz</td>\n",
       "    </tr>\n",
       "    <tr>\n",
       "      <th>4</th>\n",
       "      <td>Kulaklığın sesi kaliteli falan değil. Aleti öv...</td>\n",
       "      <td>Olumsuz</td>\n",
       "    </tr>\n",
       "  </tbody>\n",
       "</table>\n",
       "</div>"
      ],
      "text/plain": [
       "                                               Görüş     Durum\n",
       "0  ses kalitesi ve ergonomisi rezalet, sony olduğ...   Olumsuz\n",
       "1                         hizli teslimat tesekkürler  Tarafsız\n",
       "2  ses olayı süper....gece çalıştır sıkıntı yok.....    Olumlu\n",
       "3  geldi bigün kullandık hemen bozoldu hiçtavsiye...   Olumsuz\n",
       "4  Kulaklığın sesi kaliteli falan değil. Aleti öv...   Olumsuz"
      ]
     },
     "execution_count": 3,
     "metadata": {},
     "output_type": "execute_result"
    }
   ],
   "source": [
    "data = pd.read_csv(\"magaza_yorumlari_duygu_analizi.csv\", encoding = \"utf-16\")\n",
    "data = data[:3000]\n",
    "data.head()"
   ]
  },
  {
   "cell_type": "code",
   "execution_count": 4,
   "id": "f06141ff",
   "metadata": {},
   "outputs": [],
   "source": [
    "gorus = data[\"Görüş\"]\n",
    "durum = data[\"Durum\"]"
   ]
  },
  {
   "cell_type": "markdown",
   "id": "f595f163",
   "metadata": {},
   "source": [
    "<a id = \"3\"></a><b>\n",
    "## Data Information"
   ]
  },
  {
   "cell_type": "code",
   "execution_count": 5,
   "id": "83cbffa3",
   "metadata": {},
   "outputs": [
    {
     "data": {
      "text/html": [
       "<div>\n",
       "<style scoped>\n",
       "    .dataframe tbody tr th:only-of-type {\n",
       "        vertical-align: middle;\n",
       "    }\n",
       "\n",
       "    .dataframe tbody tr th {\n",
       "        vertical-align: top;\n",
       "    }\n",
       "\n",
       "    .dataframe thead th {\n",
       "        text-align: right;\n",
       "    }\n",
       "</style>\n",
       "<table border=\"1\" class=\"dataframe\">\n",
       "  <thead>\n",
       "    <tr style=\"text-align: right;\">\n",
       "      <th></th>\n",
       "      <th>Görüş</th>\n",
       "      <th>Durum</th>\n",
       "    </tr>\n",
       "  </thead>\n",
       "  <tbody>\n",
       "    <tr>\n",
       "      <th>count</th>\n",
       "      <td>2999</td>\n",
       "      <td>3000</td>\n",
       "    </tr>\n",
       "    <tr>\n",
       "      <th>unique</th>\n",
       "      <td>2997</td>\n",
       "      <td>3</td>\n",
       "    </tr>\n",
       "    <tr>\n",
       "      <th>top</th>\n",
       "      <td>kullanişlı</td>\n",
       "      <td>Olumsuz</td>\n",
       "    </tr>\n",
       "    <tr>\n",
       "      <th>freq</th>\n",
       "      <td>2</td>\n",
       "      <td>1148</td>\n",
       "    </tr>\n",
       "  </tbody>\n",
       "</table>\n",
       "</div>"
      ],
      "text/plain": [
       "             Görüş    Durum\n",
       "count         2999     3000\n",
       "unique        2997        3\n",
       "top     kullanişlı  Olumsuz\n",
       "freq             2     1148"
      ]
     },
     "execution_count": 5,
     "metadata": {},
     "output_type": "execute_result"
    }
   ],
   "source": [
    "data.describe()"
   ]
  },
  {
   "cell_type": "code",
   "execution_count": 6,
   "id": "6603e819",
   "metadata": {},
   "outputs": [
    {
     "name": "stdout",
     "output_type": "stream",
     "text": [
      "<class 'pandas.core.frame.DataFrame'>\n",
      "RangeIndex: 3000 entries, 0 to 2999\n",
      "Data columns (total 2 columns):\n",
      " #   Column  Non-Null Count  Dtype \n",
      "---  ------  --------------  ----- \n",
      " 0   Görüş   2999 non-null   object\n",
      " 1   Durum   3000 non-null   object\n",
      "dtypes: object(2)\n",
      "memory usage: 47.0+ KB\n"
     ]
    }
   ],
   "source": [
    "data.info()"
   ]
  },
  {
   "cell_type": "markdown",
   "id": "6ad4dae3",
   "metadata": {},
   "source": [
    "* Görüşte bir tane eksik verimiz olduğu için değerimiz 2999 gösteriyor"
   ]
  },
  {
   "cell_type": "code",
   "execution_count": 7,
   "id": "186ce7f3",
   "metadata": {},
   "outputs": [
    {
     "data": {
      "text/plain": [
       "str"
      ]
     },
     "execution_count": 7,
     "metadata": {},
     "output_type": "execute_result"
    }
   ],
   "source": [
    "type(data[\"Görüş\"][5])"
   ]
  },
  {
   "cell_type": "markdown",
   "id": "371b0050",
   "metadata": {},
   "source": [
    "* Label Encoder"
   ]
  },
  {
   "cell_type": "code",
   "execution_count": 8,
   "id": "32f51b6c",
   "metadata": {},
   "outputs": [],
   "source": [
    "durum = [0 if i == \"Olumsuz\" else 1 if i == \"Olumlu\" else 2 for i in data[\"Durum\"]]"
   ]
  },
  {
   "cell_type": "code",
   "execution_count": 9,
   "id": "1a2f7d7a",
   "metadata": {},
   "outputs": [
    {
     "data": {
      "text/html": [
       "<div>\n",
       "<style scoped>\n",
       "    .dataframe tbody tr th:only-of-type {\n",
       "        vertical-align: middle;\n",
       "    }\n",
       "\n",
       "    .dataframe tbody tr th {\n",
       "        vertical-align: top;\n",
       "    }\n",
       "\n",
       "    .dataframe thead th {\n",
       "        text-align: right;\n",
       "    }\n",
       "</style>\n",
       "<table border=\"1\" class=\"dataframe\">\n",
       "  <thead>\n",
       "    <tr style=\"text-align: right;\">\n",
       "      <th></th>\n",
       "      <th>Görüş</th>\n",
       "      <th>Durum</th>\n",
       "    </tr>\n",
       "  </thead>\n",
       "  <tbody>\n",
       "    <tr>\n",
       "      <th>0</th>\n",
       "      <td>ses kalitesi ve ergonomisi rezalet, sony olduğ...</td>\n",
       "      <td>0</td>\n",
       "    </tr>\n",
       "    <tr>\n",
       "      <th>1</th>\n",
       "      <td>hizli teslimat tesekkürler</td>\n",
       "      <td>2</td>\n",
       "    </tr>\n",
       "    <tr>\n",
       "      <th>2</th>\n",
       "      <td>ses olayı süper....gece çalıştır sıkıntı yok.....</td>\n",
       "      <td>1</td>\n",
       "    </tr>\n",
       "    <tr>\n",
       "      <th>3</th>\n",
       "      <td>geldi bigün kullandık hemen bozoldu hiçtavsiye...</td>\n",
       "      <td>0</td>\n",
       "    </tr>\n",
       "    <tr>\n",
       "      <th>4</th>\n",
       "      <td>Kulaklığın sesi kaliteli falan değil. Aleti öv...</td>\n",
       "      <td>0</td>\n",
       "    </tr>\n",
       "    <tr>\n",
       "      <th>...</th>\n",
       "      <td>...</td>\n",
       "      <td>...</td>\n",
       "    </tr>\n",
       "    <tr>\n",
       "      <th>2995</th>\n",
       "      <td>Anneme anneler günü hediyesi aldım süpürge on ...</td>\n",
       "      <td>1</td>\n",
       "    </tr>\n",
       "    <tr>\n",
       "      <th>2996</th>\n",
       "      <td>Hayır. 1 kere kullandık bozuldu. Servis nasıl ...</td>\n",
       "      <td>0</td>\n",
       "    </tr>\n",
       "    <tr>\n",
       "      <th>2997</th>\n",
       "      <td>Ürün açıklamasında hem 4.7\"-6.0\" arası modelle...</td>\n",
       "      <td>2</td>\n",
       "    </tr>\n",
       "    <tr>\n",
       "      <th>2998</th>\n",
       "      <td>Olumsuz yönleri: Ürün geldiğinde bozuk çıktı. ...</td>\n",
       "      <td>0</td>\n",
       "    </tr>\n",
       "    <tr>\n",
       "      <th>2999</th>\n",
       "      <td>Parçalar tam oturmuyor. Özellikle çırpıcı moto...</td>\n",
       "      <td>2</td>\n",
       "    </tr>\n",
       "  </tbody>\n",
       "</table>\n",
       "<p>3000 rows × 2 columns</p>\n",
       "</div>"
      ],
      "text/plain": [
       "                                                  Görüş  Durum\n",
       "0     ses kalitesi ve ergonomisi rezalet, sony olduğ...      0\n",
       "1                            hizli teslimat tesekkürler      2\n",
       "2     ses olayı süper....gece çalıştır sıkıntı yok.....      1\n",
       "3     geldi bigün kullandık hemen bozoldu hiçtavsiye...      0\n",
       "4     Kulaklığın sesi kaliteli falan değil. Aleti öv...      0\n",
       "...                                                 ...    ...\n",
       "2995  Anneme anneler günü hediyesi aldım süpürge on ...      1\n",
       "2996  Hayır. 1 kere kullandık bozuldu. Servis nasıl ...      0\n",
       "2997  Ürün açıklamasında hem 4.7\"-6.0\" arası modelle...      2\n",
       "2998  Olumsuz yönleri: Ürün geldiğinde bozuk çıktı. ...      0\n",
       "2999  Parçalar tam oturmuyor. Özellikle çırpıcı moto...      2\n",
       "\n",
       "[3000 rows x 2 columns]"
      ]
     },
     "execution_count": 9,
     "metadata": {},
     "output_type": "execute_result"
    }
   ],
   "source": [
    "durum = pd.DataFrame(data = durum, index = range(len(durum)), columns = [\"Durum\"])\n",
    "data = pd.concat([gorus, durum], axis = 1)\n",
    "data"
   ]
  },
  {
   "cell_type": "markdown",
   "id": "3bfd3c56",
   "metadata": {},
   "source": [
    "<a id = \"4\"></a><b>\n",
    "## Visualization"
   ]
  },
  {
   "cell_type": "code",
   "execution_count": 10,
   "id": "fa30f8fa",
   "metadata": {},
   "outputs": [
    {
     "data": {
      "image/png": "[encoded data removed]",
      "text/plain": [
       "<Figure size 648x216 with 1 Axes>"
      ]
     },
     "metadata": {
      "needs_background": "light"
     },
     "output_type": "display_data"
    },
    {
     "name": "stdout",
     "output_type": "stream",
     "text": [
      "Durum: \n",
      " 0    1148\n",
      "1    1098\n",
      "2     754\n",
      "Name: Durum, dtype: int64\n"
     ]
    }
   ],
   "source": [
    "var = data[\"Durum\"]\n",
    "    \n",
    "# count number of categorical variable \n",
    "varValue = var.value_counts()\n",
    "    \n",
    "# visualize\n",
    "plt.figure(figsize = (9, 3))\n",
    "plt.bar(varValue.index, varValue)\n",
    "plt.xticks(varValue.index, varValue.index.values)\n",
    "plt.ylabel(\"Frequency\")\n",
    "plt.title(\"Durum\")\n",
    "plt.show()\n",
    "print(\"{}: \\n {}\".format(\"Durum\", varValue))"
   ]
  },
  {
   "cell_type": "markdown",
   "id": "57be544f",
   "metadata": {},
   "source": [
    "* Positive: 1097\n",
    "* Negative: 1148\n",
    "* Notr: 754"
   ]
  },
  {
   "cell_type": "markdown",
   "id": "1cc37f90",
   "metadata": {},
   "source": [
    "<a id = \"5\"></a><b>\n",
    "## Missing Value"
   ]
  },
  {
   "cell_type": "code",
   "execution_count": 11,
   "id": "6fec83b1",
   "metadata": {},
   "outputs": [
    {
     "data": {
      "text/plain": [
       "Görüş    1\n",
       "Durum    0\n",
       "dtype: int64"
      ]
     },
     "execution_count": 11,
     "metadata": {},
     "output_type": "execute_result"
    }
   ],
   "source": [
    "data.isnull().sum()"
   ]
  },
  {
   "cell_type": "code",
   "execution_count": 12,
   "id": "61f720be",
   "metadata": {},
   "outputs": [
    {
     "data": {
      "text/plain": [
       "index    0\n",
       "Görüş    0\n",
       "Durum    0\n",
       "dtype: int64"
      ]
     },
     "execution_count": 12,
     "metadata": {},
     "output_type": "execute_result"
    }
   ],
   "source": [
    "data = data.dropna().reset_index()\n",
    "data.isnull().sum()"
   ]
  },
  {
   "cell_type": "markdown",
   "id": "d640ad4e",
   "metadata": {},
   "source": [
    "<a id = \"6\"></a><b>\n",
    "## Training"
   ]
  },
  {
   "cell_type": "markdown",
   "id": "fb0851be",
   "metadata": {},
   "source": [
    "duyarlılık analizi modeli kullanabilirsiniz. (sementic analysis model)\n",
    " * pipeline(\"sentiment-analysis\", tokenizer=tokenizer, model=model)"
   ]
  },
  {
   "cell_type": "code",
   "execution_count": 13,
   "id": "d0c955f7",
   "metadata": {},
   "outputs": [],
   "source": [
    "predict = pipeline(\"sentiment-analysis\", tokenizer=tokenizer, model=model)"
   ]
  },
  {
   "cell_type": "code",
   "execution_count": 14,
   "id": "9053ffe9",
   "metadata": {},
   "outputs": [
    {
     "data": {
      "text/plain": [
       "'ses olayı süper....gece çalıştır sıkıntı yok.....kablo uzun işinizi çok rahat ettirir.....çekme olayı son derece güzel içiniz rahat olsun......diğerlerini saymıyorum bile.....'"
      ]
     },
     "execution_count": 14,
     "metadata": {},
     "output_type": "execute_result"
    }
   ],
   "source": [
    "data[\"Görüş\"][2]"
   ]
  },
  {
   "cell_type": "code",
   "execution_count": 15,
   "id": "9e50cc16",
   "metadata": {},
   "outputs": [
    {
     "data": {
      "text/plain": [
       "[{'label': 'positive', 'score': 0.9885020852088928}]"
      ]
     },
     "execution_count": 15,
     "metadata": {},
     "output_type": "execute_result"
    }
   ],
   "source": [
    "predict(data[\"Görüş\"][2])"
   ]
  },
  {
   "cell_type": "code",
   "execution_count": 16,
   "id": "daebd808",
   "metadata": {},
   "outputs": [],
   "source": [
    "label_list = []\n",
    "score_list = []\n",
    "for d in range(len(data)):\n",
    "    for i in predict(data[\"Görüş\"][d]):\n",
    "        label, score = i.values()\n",
    "        label_list.append(label)\n",
    "        score_list.append(score)\n",
    "data[\"Sementic\"] = pd.DataFrame(data = label_list, index = range(len(label_list)), columns = [\"Sementic\"])\n",
    "data[\"Probability\"] = pd.DataFrame(data = score_list, index = range(len(score_list)), columns = [\"Probability\"])"
   ]
  },
  {
   "cell_type": "markdown",
   "id": "0a100e4a",
   "metadata": {},
   "source": [
    "<a id = \"7\"></a><b>\n",
    "## Probability Visualization"
   ]
  },
  {
   "cell_type": "code",
   "execution_count": 17,
   "id": "e49861c6",
   "metadata": {},
   "outputs": [
    {
     "name": "stdout",
     "output_type": "stream",
     "text": [
      "minimum probability score:  0.501057505607605\n",
      "maximum probability score:  0.9998788237571716\n"
     ]
    }
   ],
   "source": [
    "print(\"minimum probability score: \", min(score_list))\n",
    "print(\"maximum probability score: \", max(score_list))"
   ]
  },
  {
   "cell_type": "code",
   "execution_count": 18,
   "id": "61c4a806",
   "metadata": {},
   "outputs": [],
   "source": [
    "min_probability = data[data[\"Probability\"] < 0.7][\"Probability\"]\n",
    "max_probability = data[data[\"Probability\"] > 0.7][\"Probability\"]"
   ]
  },
  {
   "cell_type": "markdown",
   "id": "8fc50df2",
   "metadata": {},
   "source": [
    "* Minumum probability score\n",
    "    * probability score < 0.7"
   ]
  },
  {
   "cell_type": "code",
   "execution_count": 19,
   "id": "b692a31d",
   "metadata": {},
   "outputs": [
    {
     "data": {
      "text/plain": [
       "Int64Index([   5,   22,   23,   51,   64,  113,  117,  123,  128,  133,\n",
       "            ...\n",
       "            2790, 2792, 2799, 2825, 2840, 2903, 2927, 2947, 2959, 2987],\n",
       "           dtype='int64', length=220)"
      ]
     },
     "execution_count": 19,
     "metadata": {},
     "output_type": "execute_result"
    }
   ],
   "source": [
    "min_probability.index"
   ]
  },
  {
   "cell_type": "code",
   "execution_count": 30,
   "id": "fba9e380",
   "metadata": {},
   "outputs": [
    {
     "data": {
      "text/plain": [
       "Int64Index([   0,    1,    2,    3,    4,    6,    7,    8,    9,   10,\n",
       "            ...\n",
       "            2989, 2990, 2991, 2992, 2993, 2994, 2995, 2996, 2997, 2998],\n",
       "           dtype='int64', length=2779)"
      ]
     },
     "execution_count": 30,
     "metadata": {},
     "output_type": "execute_result"
    }
   ],
   "source": [
    "max_probability.index"
   ]
  },
  {
   "cell_type": "markdown",
   "id": "a3789201",
   "metadata": {},
   "source": [
    "* Maximum probability score\n",
    "    * probability score > 0.7"
   ]
  },
  {
   "cell_type": "code",
   "execution_count": 20,
   "id": "db7fabd6",
   "metadata": {},
   "outputs": [
    {
     "data": {
      "text/plain": [
       "0       0.999512\n",
       "1       0.795702\n",
       "2       0.988502\n",
       "3       0.997646\n",
       "4       0.998313\n",
       "          ...   \n",
       "2994    0.846864\n",
       "2995    0.999010\n",
       "2996    0.999378\n",
       "2997    0.999654\n",
       "2998    0.998921\n",
       "Name: Probability, Length: 2779, dtype: float64"
      ]
     },
     "execution_count": 20,
     "metadata": {},
     "output_type": "execute_result"
    }
   ],
   "source": [
    "max_probability"
   ]
  },
  {
   "cell_type": "markdown",
   "id": "80978f5c",
   "metadata": {},
   "source": [
    "* Total probability score"
   ]
  },
  {
   "cell_type": "code",
   "execution_count": 21,
   "id": "cad68a14",
   "metadata": {},
   "outputs": [
    {
     "data": {
      "image/png": "[encoded data removed]",
      "text/plain": [
       "<Figure size 432x288 with 1 Axes>"
      ]
     },
     "metadata": {
      "needs_background": "light"
     },
     "output_type": "display_data"
    }
   ],
   "source": [
    "plt.scatter(range(len(score_list)), score_list , color = \"green\")\n",
    "plt.ylabel(\"Probabity\")\n",
    "plt.title(\"predict score\")\n",
    "plt.show()"
   ]
  },
  {
   "cell_type": "markdown",
   "id": "3f7298a2",
   "metadata": {},
   "source": [
    "* Maximum probability score is blue\n",
    "* Minimum probability score is red"
   ]
  },
  {
   "cell_type": "code",
   "execution_count": 22,
   "id": "e55d8252",
   "metadata": {},
   "outputs": [
    {
     "data": {
      "image/png": "[encoded data removed]",
      "text/plain": [
       "<Figure size 432x288 with 1 Axes>"
      ]
     },
     "metadata": {
      "needs_background": "light"
     },
     "output_type": "display_data"
    }
   ],
   "source": [
    "plt.scatter(min_probability.index, min_probability , color = \"red\")\n",
    "plt.scatter(max_probability.index, max_probability , color = \"blue\")\n",
    "plt.xlabel(\"score list\")\n",
    "plt.ylabel(\"Probabity\")\n",
    "plt.title(\"min predict score < 0.7 is red \\n max predict score > 0.7 is blue\")\n",
    "plt.show()"
   ]
  },
  {
   "cell_type": "markdown",
   "id": "3cbd1553",
   "metadata": {},
   "source": [
    "As seen in the figure, the probability of knowing the results correctly is high."
   ]
  },
  {
   "cell_type": "code",
   "execution_count": 72,
   "id": "38c689d1",
   "metadata": {},
   "outputs": [
    {
     "data": {
      "image/png": "[encoded data removed]",
      "text/plain": [
       "<Figure size 1584x432 with 1 Axes>"
      ]
     },
     "metadata": {
      "needs_background": "light"
     },
     "output_type": "display_data"
    }
   ],
   "source": [
    "plt.figure(figsize = (22, 6))\n",
    "sns.histplot(data = data, x = \"Sementic\", hue = \"Durum\")\n",
    "plt.show()"
   ]
  },
  {
   "cell_type": "markdown",
   "id": "c20ba407",
   "metadata": {},
   "source": [
    "Examination of the values in the sementic part of our data.\n",
    "* In negative values as a result of the estimation:\n",
    "    * Guess 0 values: in color at 0\n",
    "    * 1 to guess the values: 1 in color\n",
    "    * 2 values to guess: 2 in color\n",
    "* In positive values as a result of the estimation:\n",
    "    * Guess 0 values: in color at 0\n",
    "    * 1 to guess the values: 1 in color\n",
    "    * 2 values to guess: 2 in color"
   ]
  },
  {
   "cell_type": "markdown",
   "id": "8847c2c5",
   "metadata": {},
   "source": [
    "<a id = \"7\"></a><b>\n",
    "## Conclusion"
   ]
  },
  {
   "cell_type": "code",
   "execution_count": 75,
   "id": "aabe001f",
   "metadata": {},
   "outputs": [
    {
     "data": {
      "text/html": [
       "<div>\n",
       "<style scoped>\n",
       "    .dataframe tbody tr th:only-of-type {\n",
       "        vertical-align: middle;\n",
       "    }\n",
       "\n",
       "    .dataframe tbody tr th {\n",
       "        vertical-align: top;\n",
       "    }\n",
       "\n",
       "    .dataframe thead th {\n",
       "        text-align: right;\n",
       "    }\n",
       "</style>\n",
       "<table border=\"1\" class=\"dataframe\">\n",
       "  <thead>\n",
       "    <tr style=\"text-align: right;\">\n",
       "      <th></th>\n",
       "      <th>index</th>\n",
       "      <th>Görüş</th>\n",
       "      <th>Durum</th>\n",
       "      <th>Sementic</th>\n",
       "      <th>Probability</th>\n",
       "    </tr>\n",
       "  </thead>\n",
       "  <tbody>\n",
       "    <tr>\n",
       "      <th>0</th>\n",
       "      <td>0</td>\n",
       "      <td>ses kalitesi ve ergonomisi rezalet, sony olduğ...</td>\n",
       "      <td>0</td>\n",
       "      <td>negative</td>\n",
       "      <td>0.999512</td>\n",
       "    </tr>\n",
       "    <tr>\n",
       "      <th>1</th>\n",
       "      <td>1</td>\n",
       "      <td>hizli teslimat tesekkürler</td>\n",
       "      <td>2</td>\n",
       "      <td>positive</td>\n",
       "      <td>0.795702</td>\n",
       "    </tr>\n",
       "    <tr>\n",
       "      <th>2</th>\n",
       "      <td>2</td>\n",
       "      <td>ses olayı süper....gece çalıştır sıkıntı yok.....</td>\n",
       "      <td>1</td>\n",
       "      <td>positive</td>\n",
       "      <td>0.988502</td>\n",
       "    </tr>\n",
       "    <tr>\n",
       "      <th>3</th>\n",
       "      <td>3</td>\n",
       "      <td>geldi bigün kullandık hemen bozoldu hiçtavsiye...</td>\n",
       "      <td>0</td>\n",
       "      <td>negative</td>\n",
       "      <td>0.997646</td>\n",
       "    </tr>\n",
       "    <tr>\n",
       "      <th>4</th>\n",
       "      <td>4</td>\n",
       "      <td>Kulaklığın sesi kaliteli falan değil. Aleti öv...</td>\n",
       "      <td>0</td>\n",
       "      <td>negative</td>\n",
       "      <td>0.998313</td>\n",
       "    </tr>\n",
       "  </tbody>\n",
       "</table>\n",
       "</div>"
      ],
      "text/plain": [
       "   index                                              Görüş  Durum  Sementic  \\\n",
       "0      0  ses kalitesi ve ergonomisi rezalet, sony olduğ...      0  negative   \n",
       "1      1                         hizli teslimat tesekkürler      2  positive   \n",
       "2      2  ses olayı süper....gece çalıştır sıkıntı yok.....      1  positive   \n",
       "3      3  geldi bigün kullandık hemen bozoldu hiçtavsiye...      0  negative   \n",
       "4      4  Kulaklığın sesi kaliteli falan değil. Aleti öv...      0  negative   \n",
       "\n",
       "   Probability  \n",
       "0     0.999512  \n",
       "1     0.795702  \n",
       "2     0.988502  \n",
       "3     0.997646  \n",
       "4     0.998313  "
      ]
     },
     "execution_count": 75,
     "metadata": {},
     "output_type": "execute_result"
    }
   ],
   "source": [
    "data.head()"
   ]
  },
  {
   "cell_type": "markdown",
   "id": "64f5f690",
   "metadata": {},
   "source": [
    "* data[0] = 0 negatif olma olasılığı 0.99 \n",
    "* data[1] = 2 notr olma olasılığı 0.79\n",
    "* data[2] = 1 pozitif olma olasılığı 0.98"
   ]
  }
 ],
 "metadata": {
  "kernelspec": {
   "display_name": "Python 3 (ipykernel)",
   "language": "python",
   "name": "python3"
  },
  "language_info": {
   "codemirror_mode": {
    "name": "ipython",
    "version": 3
   },
   "file_extension": ".py",
   "mimetype": "text/x-python",
   "name": "python",
   "nbconvert_exporter": "python",
   "pygments_lexer": "ipython3",
   "version": "3.9.6"
  }
 },
 "nbformat": 4,
 "nbformat_minor": 5
}
